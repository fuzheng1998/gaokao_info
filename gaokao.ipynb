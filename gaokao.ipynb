{
 "cells": [
  {
   "cell_type": "code",
   "execution_count": 23,
   "outputs": [],
   "source": [
    "import pandas as pd"
   ],
   "metadata": {
    "collapsed": false,
    "pycharm": {
     "name": "#%%\n"
    }
   }
  },
  {
   "cell_type": "code",
   "execution_count": 24,
   "outputs": [
    {
     "data": {
      "text/plain": "                                                   URL  \\\n0    https://www.lzk.hl.cn/gkpd/202204/t20220407_18...   \n1    https://www.lzk.hl.cn/gkpd/202204/t20220407_18...   \n2    https://www.lzk.hl.cn/gkpd/202204/t20220407_18...   \n3    https://www.lzk.hl.cn/gkpd/202203/t20220331_18...   \n4    https://www.lzk.hl.cn/gkpd/gkxx/202203/t202203...   \n..                                                 ...   \n465  https://www.lzk.hl.cn/gkpd/201908/t20190812_16...   \n466  https://www.lzk.hl.cn/gkpd/gkxx/201908/t201908...   \n467  https://www.lzk.hl.cn/gkpd/gkxx/201908/t201908...   \n468  https://www.lzk.hl.cn/gkpd/gkxx/201908/t201908...   \n469  https://www.lzk.hl.cn/gkpd/gkxx/201908/t201908...   \n\n                                           Title        Date  \n0            高校直播 | 4月9日，2022年强基计划政策解读网络直播咨询会来了！  2022-04-07  \n1                 关于印发《黑龙江省2022年普通高等学校招生工作规定》的通知  2022-04-07  \n2            关于印发《黑龙江省2022年普通高校招生艺术类专业录取实施办法》的通知  2022-04-07  \n3    关于2022年黑龙江省普通高校招生运动训练、武术与民族传统体育专业文化课全国统一...  2022-03-31  \n4      关于印发《2022年黑龙江省中等职业学校毕业生专业对口升学考试招生实施办法》的通知  2022-03-04  \n..                                           ...         ...  \n465                        2019年艺术类专科A段录取院校投档分数线  2019-08-12  \n466                        高职（专科）提前批录取院校网上征集志愿通知  2019-08-12  \n467                       高职（专科）提前批录取院校网上征集志愿预通知  2019-08-12  \n468                  2019年普通高校本科第三批Ａ段录取结束院校名单（三）  2019-08-11  \n469                   2019年本科第三批次A段录取院校征集志愿投档分数线  2019-08-10  \n\n[470 rows x 3 columns]",
      "text/html": "<div>\n<style scoped>\n    .dataframe tbody tr th:only-of-type {\n        vertical-align: middle;\n    }\n\n    .dataframe tbody tr th {\n        vertical-align: top;\n    }\n\n    .dataframe thead th {\n        text-align: right;\n    }\n</style>\n<table border=\"1\" class=\"dataframe\">\n  <thead>\n    <tr style=\"text-align: right;\">\n      <th></th>\n      <th>URL</th>\n      <th>Title</th>\n      <th>Date</th>\n    </tr>\n  </thead>\n  <tbody>\n    <tr>\n      <th>0</th>\n      <td>https://www.lzk.hl.cn/gkpd/202204/t20220407_18...</td>\n      <td>高校直播 | 4月9日，2022年强基计划政策解读网络直播咨询会来了！</td>\n      <td>2022-04-07</td>\n    </tr>\n    <tr>\n      <th>1</th>\n      <td>https://www.lzk.hl.cn/gkpd/202204/t20220407_18...</td>\n      <td>关于印发《黑龙江省2022年普通高等学校招生工作规定》的通知</td>\n      <td>2022-04-07</td>\n    </tr>\n    <tr>\n      <th>2</th>\n      <td>https://www.lzk.hl.cn/gkpd/202204/t20220407_18...</td>\n      <td>关于印发《黑龙江省2022年普通高校招生艺术类专业录取实施办法》的通知</td>\n      <td>2022-04-07</td>\n    </tr>\n    <tr>\n      <th>3</th>\n      <td>https://www.lzk.hl.cn/gkpd/202203/t20220331_18...</td>\n      <td>关于2022年黑龙江省普通高校招生运动训练、武术与民族传统体育专业文化课全国统一...</td>\n      <td>2022-03-31</td>\n    </tr>\n    <tr>\n      <th>4</th>\n      <td>https://www.lzk.hl.cn/gkpd/gkxx/202203/t202203...</td>\n      <td>关于印发《2022年黑龙江省中等职业学校毕业生专业对口升学考试招生实施办法》的通知</td>\n      <td>2022-03-04</td>\n    </tr>\n    <tr>\n      <th>...</th>\n      <td>...</td>\n      <td>...</td>\n      <td>...</td>\n    </tr>\n    <tr>\n      <th>465</th>\n      <td>https://www.lzk.hl.cn/gkpd/201908/t20190812_16...</td>\n      <td>2019年艺术类专科A段录取院校投档分数线</td>\n      <td>2019-08-12</td>\n    </tr>\n    <tr>\n      <th>466</th>\n      <td>https://www.lzk.hl.cn/gkpd/gkxx/201908/t201908...</td>\n      <td>高职（专科）提前批录取院校网上征集志愿通知</td>\n      <td>2019-08-12</td>\n    </tr>\n    <tr>\n      <th>467</th>\n      <td>https://www.lzk.hl.cn/gkpd/gkxx/201908/t201908...</td>\n      <td>高职（专科）提前批录取院校网上征集志愿预通知</td>\n      <td>2019-08-12</td>\n    </tr>\n    <tr>\n      <th>468</th>\n      <td>https://www.lzk.hl.cn/gkpd/gkxx/201908/t201908...</td>\n      <td>2019年普通高校本科第三批Ａ段录取结束院校名单（三）</td>\n      <td>2019-08-11</td>\n    </tr>\n    <tr>\n      <th>469</th>\n      <td>https://www.lzk.hl.cn/gkpd/gkxx/201908/t201908...</td>\n      <td>2019年本科第三批次A段录取院校征集志愿投档分数线</td>\n      <td>2019-08-10</td>\n    </tr>\n  </tbody>\n</table>\n<p>470 rows × 3 columns</p>\n</div>"
     },
     "execution_count": 24,
     "metadata": {},
     "output_type": "execute_result"
    }
   ],
   "source": [
    "gaokao_data = pd.read_csv('gaokao.csv')\n",
    "gaokao_data"
   ],
   "metadata": {
    "collapsed": false,
    "pycharm": {
     "name": "#%%\n"
    }
   }
  },
  {
   "cell_type": "code",
   "execution_count": 25,
   "outputs": [],
   "source": [
    "gaokao_21_data = gaokao_data[gaokao_data['Date'].str.contains('2021-')]"
   ],
   "metadata": {
    "collapsed": false,
    "pycharm": {
     "name": "#%%\n"
    }
   }
  },
  {
   "cell_type": "code",
   "execution_count": 26,
   "outputs": [
    {
     "data": {
      "text/plain": "URL      236\nTitle    236\nDate     236\ndtype: int64"
     },
     "execution_count": 26,
     "metadata": {},
     "output_type": "execute_result"
    }
   ],
   "source": [
    "gaokao_21_data.count()"
   ],
   "metadata": {
    "collapsed": false,
    "pycharm": {
     "name": "#%%\n"
    }
   }
  },
  {
   "cell_type": "code",
   "execution_count": 27,
   "outputs": [
    {
     "name": "stderr",
     "output_type": "stream",
     "text": [
      "/var/folders/8p/hvnwrh1963j2s8t10_fd939w0000gn/T/ipykernel_9662/3731947189.py:1: UserWarning: Boolean Series key will be reindexed to match DataFrame index.\n",
      "  gaokao_21_score_data  = gaokao_21_data[gaokao_data[\"Title\"].str.contains('本科.*分数线')]\n"
     ]
    }
   ],
   "source": [
    "gaokao_21_score_data  = gaokao_21_data[gaokao_data[\"Title\"].str.contains('本科.*分数线')]"
   ],
   "metadata": {
    "collapsed": false,
    "pycharm": {
     "name": "#%%\n"
    }
   }
  },
  {
   "cell_type": "code",
   "execution_count": 28,
   "outputs": [
    {
     "data": {
      "text/plain": "URL      25\nTitle    25\nDate     25\ndtype: int64"
     },
     "execution_count": 28,
     "metadata": {},
     "output_type": "execute_result"
    }
   ],
   "source": [
    "gaokao_21_score_data.count()"
   ],
   "metadata": {
    "collapsed": false,
    "pycharm": {
     "name": "#%%\n"
    }
   }
  },
  {
   "cell_type": "code",
   "execution_count": 29,
   "outputs": [
    {
     "data": {
      "text/plain": "                                                   URL  \\\n29   https://www.lzk.hl.cn/gkpd/202108/t20210830_17...   \n30   https://www.lzk.hl.cn/gkpd/202108/t20210830_17...   \n32   https://www.lzk.hl.cn/gkpd/gkxx/202108/t202108...   \n92   https://www.lzk.hl.cn/gkpd/202108/t20210809_17...   \n95   https://www.lzk.hl.cn/gkpd/gkxx/202108/t202108...   \n100  https://www.lzk.hl.cn/gkpd/202108/t20210806_17...   \n109  https://www.lzk.hl.cn/gkpd/202107/t20210731_17...   \n110  https://www.lzk.hl.cn/gkpd/gkxx/202107/t202107...   \n111  https://www.lzk.hl.cn/gkpd/gkxx/202107/t202107...   \n114  https://www.lzk.hl.cn/gkpd/gkxx/202107/t202107...   \n117  https://www.lzk.hl.cn/gkpd/gkxx/202107/t202107...   \n120  https://www.lzk.hl.cn/gkpd/gkxx/202107/t202107...   \n129  https://www.lzk.hl.cn/gkpd/202107/t20210722_17...   \n144  https://www.lzk.hl.cn/gkpd/gkxx/202107/t202107...   \n146  https://www.lzk.hl.cn/gkpd/gkxx/202107/t202107...   \n153  https://www.lzk.hl.cn/gkpd/gkxx/202107/t202107...   \n154  https://www.lzk.hl.cn/gkpd/gkxx/202107/t202107...   \n159  https://www.lzk.hl.cn/gkpd/202107/t20210716_17...   \n166  https://www.lzk.hl.cn/gkpd/gkxx/202107/t202107...   \n179  https://www.lzk.hl.cn/gkpd/202107/t20210714_17...   \n180  https://www.lzk.hl.cn/gkpd/202107/t20210714_17...   \n184  https://www.lzk.hl.cn/gkpd/202107/t20210713_17...   \n189  https://www.lzk.hl.cn/gkpd/gkxx/202107/t202107...   \n190  https://www.lzk.hl.cn/gkpd/gkxx/202107/t202107...   \n197  https://www.lzk.hl.cn/gkpd/gkxx/202107/t202107...   \n\n                                            Title        Date  \n29      2021年黑龙江省中等职业学校毕业生专业对口升学招生录取本科批次征集志愿投档分数线  2021-08-30  \n30      2021年黑龙江省中等职业学校毕业生专业对口升学招生录取本科院校投档分数线现已发布  2021-08-30  \n32      2021年黑龙江省中等职业学校毕业生专业对口升学招生录取本科院校投档分数线现已发布  2021-08-28  \n92                    2021年普通本科二批次A段最后一次征集志愿投档分数线  2021-08-09  \n95                     2021年普通本科二批次A段第二次征集志愿投档分数线  2021-08-08  \n100                       2021年普通本科二批次A段征集志愿投档分数线  2021-08-06  \n109                           2021年普通本科二批次A段投档分数线  2021-07-31  \n110                  2021年普通高校本科第一批B段院校录取最低分数线（四）  2021-07-29  \n111                  2021年普通高校本科第一批B段院校录取最低分数线（三）  2021-07-27  \n114                  2021年普通高校本科第一批B段院校录取最低分数线（二）  2021-07-26  \n117                  2021年普通高校本科第一批B段院校录取最低分数线（一）  2021-07-26  \n120                   2021年普通本科一批次A段最后一次征集志愿投档分数线  2021-07-24  \n129                    2021年普通本科一批次A段第一次征集志愿投档分数线  2021-07-22  \n144                   2021年普通本科一批次A段已投档，现将投档分数线发布  2021-07-19  \n146  2021年普通高校招生艺术类本科批次A段录取院校及专业最后一次征集志愿投档分数线现...  2021-07-18  \n153  2021年黑龙江省普通高校招生艺术类本科批次A段录取院校及专业征集志愿投档分数线现...  2021-07-17  \n154           2021年黑龙江省体育类本科批次录取院校投档分数线现予公布（征集志愿）  2021-07-17  \n159           2021年面向贫困地区定向招生本科专项计划第二次征集志愿投档分数线发布  2021-07-16  \n166              2021年面向贫困地区定向招生本科专项计划征集志愿投档分数线发布  2021-07-15  \n179      2021年黑龙江省普通高校招生艺术类本科批次A段录取院校及专业投档分数线现予公布  2021-07-14  \n180            2021年面向贫困地区定向招生本科专项计划已投档，现将投档分数线发布  2021-07-14  \n184                 2021年黑龙江省体育类本科批次录取院校投档分数线现予公布  2021-07-13  \n189                    2021年普通高校本科提前批院校录取最低分数线（三）  2021-07-12  \n190                    2021年普通高校本科提前批院校录取最低分数线（二）  2021-07-11  \n197                    2021年普通高校本科提前批院校录取最低分数线（一）  2021-07-11  ",
      "text/html": "<div>\n<style scoped>\n    .dataframe tbody tr th:only-of-type {\n        vertical-align: middle;\n    }\n\n    .dataframe tbody tr th {\n        vertical-align: top;\n    }\n\n    .dataframe thead th {\n        text-align: right;\n    }\n</style>\n<table border=\"1\" class=\"dataframe\">\n  <thead>\n    <tr style=\"text-align: right;\">\n      <th></th>\n      <th>URL</th>\n      <th>Title</th>\n      <th>Date</th>\n    </tr>\n  </thead>\n  <tbody>\n    <tr>\n      <th>29</th>\n      <td>https://www.lzk.hl.cn/gkpd/202108/t20210830_17...</td>\n      <td>2021年黑龙江省中等职业学校毕业生专业对口升学招生录取本科批次征集志愿投档分数线</td>\n      <td>2021-08-30</td>\n    </tr>\n    <tr>\n      <th>30</th>\n      <td>https://www.lzk.hl.cn/gkpd/202108/t20210830_17...</td>\n      <td>2021年黑龙江省中等职业学校毕业生专业对口升学招生录取本科院校投档分数线现已发布</td>\n      <td>2021-08-30</td>\n    </tr>\n    <tr>\n      <th>32</th>\n      <td>https://www.lzk.hl.cn/gkpd/gkxx/202108/t202108...</td>\n      <td>2021年黑龙江省中等职业学校毕业生专业对口升学招生录取本科院校投档分数线现已发布</td>\n      <td>2021-08-28</td>\n    </tr>\n    <tr>\n      <th>92</th>\n      <td>https://www.lzk.hl.cn/gkpd/202108/t20210809_17...</td>\n      <td>2021年普通本科二批次A段最后一次征集志愿投档分数线</td>\n      <td>2021-08-09</td>\n    </tr>\n    <tr>\n      <th>95</th>\n      <td>https://www.lzk.hl.cn/gkpd/gkxx/202108/t202108...</td>\n      <td>2021年普通本科二批次A段第二次征集志愿投档分数线</td>\n      <td>2021-08-08</td>\n    </tr>\n    <tr>\n      <th>100</th>\n      <td>https://www.lzk.hl.cn/gkpd/202108/t20210806_17...</td>\n      <td>2021年普通本科二批次A段征集志愿投档分数线</td>\n      <td>2021-08-06</td>\n    </tr>\n    <tr>\n      <th>109</th>\n      <td>https://www.lzk.hl.cn/gkpd/202107/t20210731_17...</td>\n      <td>2021年普通本科二批次A段投档分数线</td>\n      <td>2021-07-31</td>\n    </tr>\n    <tr>\n      <th>110</th>\n      <td>https://www.lzk.hl.cn/gkpd/gkxx/202107/t202107...</td>\n      <td>2021年普通高校本科第一批B段院校录取最低分数线（四）</td>\n      <td>2021-07-29</td>\n    </tr>\n    <tr>\n      <th>111</th>\n      <td>https://www.lzk.hl.cn/gkpd/gkxx/202107/t202107...</td>\n      <td>2021年普通高校本科第一批B段院校录取最低分数线（三）</td>\n      <td>2021-07-27</td>\n    </tr>\n    <tr>\n      <th>114</th>\n      <td>https://www.lzk.hl.cn/gkpd/gkxx/202107/t202107...</td>\n      <td>2021年普通高校本科第一批B段院校录取最低分数线（二）</td>\n      <td>2021-07-26</td>\n    </tr>\n    <tr>\n      <th>117</th>\n      <td>https://www.lzk.hl.cn/gkpd/gkxx/202107/t202107...</td>\n      <td>2021年普通高校本科第一批B段院校录取最低分数线（一）</td>\n      <td>2021-07-26</td>\n    </tr>\n    <tr>\n      <th>120</th>\n      <td>https://www.lzk.hl.cn/gkpd/gkxx/202107/t202107...</td>\n      <td>2021年普通本科一批次A段最后一次征集志愿投档分数线</td>\n      <td>2021-07-24</td>\n    </tr>\n    <tr>\n      <th>129</th>\n      <td>https://www.lzk.hl.cn/gkpd/202107/t20210722_17...</td>\n      <td>2021年普通本科一批次A段第一次征集志愿投档分数线</td>\n      <td>2021-07-22</td>\n    </tr>\n    <tr>\n      <th>144</th>\n      <td>https://www.lzk.hl.cn/gkpd/gkxx/202107/t202107...</td>\n      <td>2021年普通本科一批次A段已投档，现将投档分数线发布</td>\n      <td>2021-07-19</td>\n    </tr>\n    <tr>\n      <th>146</th>\n      <td>https://www.lzk.hl.cn/gkpd/gkxx/202107/t202107...</td>\n      <td>2021年普通高校招生艺术类本科批次A段录取院校及专业最后一次征集志愿投档分数线现...</td>\n      <td>2021-07-18</td>\n    </tr>\n    <tr>\n      <th>153</th>\n      <td>https://www.lzk.hl.cn/gkpd/gkxx/202107/t202107...</td>\n      <td>2021年黑龙江省普通高校招生艺术类本科批次A段录取院校及专业征集志愿投档分数线现...</td>\n      <td>2021-07-17</td>\n    </tr>\n    <tr>\n      <th>154</th>\n      <td>https://www.lzk.hl.cn/gkpd/gkxx/202107/t202107...</td>\n      <td>2021年黑龙江省体育类本科批次录取院校投档分数线现予公布（征集志愿）</td>\n      <td>2021-07-17</td>\n    </tr>\n    <tr>\n      <th>159</th>\n      <td>https://www.lzk.hl.cn/gkpd/202107/t20210716_17...</td>\n      <td>2021年面向贫困地区定向招生本科专项计划第二次征集志愿投档分数线发布</td>\n      <td>2021-07-16</td>\n    </tr>\n    <tr>\n      <th>166</th>\n      <td>https://www.lzk.hl.cn/gkpd/gkxx/202107/t202107...</td>\n      <td>2021年面向贫困地区定向招生本科专项计划征集志愿投档分数线发布</td>\n      <td>2021-07-15</td>\n    </tr>\n    <tr>\n      <th>179</th>\n      <td>https://www.lzk.hl.cn/gkpd/202107/t20210714_17...</td>\n      <td>2021年黑龙江省普通高校招生艺术类本科批次A段录取院校及专业投档分数线现予公布</td>\n      <td>2021-07-14</td>\n    </tr>\n    <tr>\n      <th>180</th>\n      <td>https://www.lzk.hl.cn/gkpd/202107/t20210714_17...</td>\n      <td>2021年面向贫困地区定向招生本科专项计划已投档，现将投档分数线发布</td>\n      <td>2021-07-14</td>\n    </tr>\n    <tr>\n      <th>184</th>\n      <td>https://www.lzk.hl.cn/gkpd/202107/t20210713_17...</td>\n      <td>2021年黑龙江省体育类本科批次录取院校投档分数线现予公布</td>\n      <td>2021-07-13</td>\n    </tr>\n    <tr>\n      <th>189</th>\n      <td>https://www.lzk.hl.cn/gkpd/gkxx/202107/t202107...</td>\n      <td>2021年普通高校本科提前批院校录取最低分数线（三）</td>\n      <td>2021-07-12</td>\n    </tr>\n    <tr>\n      <th>190</th>\n      <td>https://www.lzk.hl.cn/gkpd/gkxx/202107/t202107...</td>\n      <td>2021年普通高校本科提前批院校录取最低分数线（二）</td>\n      <td>2021-07-11</td>\n    </tr>\n    <tr>\n      <th>197</th>\n      <td>https://www.lzk.hl.cn/gkpd/gkxx/202107/t202107...</td>\n      <td>2021年普通高校本科提前批院校录取最低分数线（一）</td>\n      <td>2021-07-11</td>\n    </tr>\n  </tbody>\n</table>\n</div>"
     },
     "execution_count": 29,
     "metadata": {},
     "output_type": "execute_result"
    }
   ],
   "source": [
    "gaokao_21_score_data"
   ],
   "metadata": {
    "collapsed": false,
    "pycharm": {
     "name": "#%%\n"
    }
   }
  },
  {
   "cell_type": "code",
   "execution_count": 29,
   "outputs": [],
   "source": [],
   "metadata": {
    "collapsed": false,
    "pycharm": {
     "name": "#%%\n"
    }
   }
  }
 ],
 "metadata": {
  "kernelspec": {
   "display_name": "Python 3",
   "language": "python",
   "name": "python3"
  },
  "language_info": {
   "codemirror_mode": {
    "name": "ipython",
    "version": 2
   },
   "file_extension": ".py",
   "mimetype": "text/x-python",
   "name": "python",
   "nbconvert_exporter": "python",
   "pygments_lexer": "ipython2",
   "version": "2.7.6"
  }
 },
 "nbformat": 4,
 "nbformat_minor": 0
}